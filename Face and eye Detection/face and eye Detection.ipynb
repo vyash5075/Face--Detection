{
 "cells": [
  {
   "cell_type": "markdown",
   "metadata": {},
   "source": [
    "# import libraries"
   ]
  },
  {
   "cell_type": "code",
   "execution_count": null,
   "metadata": {},
   "outputs": [],
   "source": [
    "import cv2\n",
    "import numpy as np\n",
    "import matplotlib.pyplot as plt\n",
    "%matplotlib inline"
   ]
  },
  {
   "cell_type": "markdown",
   "metadata": {},
   "source": [
    "# create classifier\n"
   ]
  },
  {
   "cell_type": "code",
   "execution_count": null,
   "metadata": {},
   "outputs": [],
   "source": [
    "face_classifier=cv2.CascadeClassifier('C:\\\\Users\\TARUN VERMA\\Desktop\\Object Detction\\Haarcascades\\haarcascade_frontalcatface.xml')\n",
    "eye_classifier=cv2.CascadeClassifier('C:\\\\Users\\TARUN VERMA\\Desktop\\Object Detction\\Haarcascades\\haarcascade_eye.xml')"
   ]
  },
  {
   "cell_type": "markdown",
   "metadata": {},
   "source": [
    "# open image"
   ]
  },
  {
   "cell_type": "code",
   "execution_count": null,
   "metadata": {},
   "outputs": [],
   "source": [
    "#x='C:\\\\Users\\TARUN VERMA\\Desktop\\Object Detction\\Face Detection\\Tarun.jpg'\n",
    "x=input('Please enter the location')\n",
    "z=input('Please enter the full name of the image')\n",
    "y=x.find(':')\n",
    "x=x[:y+1]+'\\\\'+x[y+1:]+'\\\\'+z\n",
    "image = cv2.imread(x)\n",
    "fix_img = cv2.cvtColor(image,cv2.COLOR_BGR2RGB)\n",
    "plt.imshow(fix_img)"
   ]
  },
  {
   "cell_type": "markdown",
   "metadata": {},
   "source": [
    "# Fix image"
   ]
  },
  {
   "cell_type": "code",
   "execution_count": null,
   "metadata": {},
   "outputs": [],
   "source": [
    "fix_img = cv2.cvtColor(image,cv2.COLOR_BGR2RGB)\n"
   ]
  },
  {
   "cell_type": "markdown",
   "metadata": {},
   "source": [
    "# Face Classifier"
   ]
  },
  {
   "cell_type": "code",
   "execution_count": null,
   "metadata": {},
   "outputs": [],
   "source": [
    "faces = face_classifier.detectMultiScale(fix_img, 1.3,5)"
   ]
  },
  {
   "cell_type": "markdown",
   "metadata": {},
   "source": [
    "# If No Face Detected"
   ]
  },
  {
   "cell_type": "code",
   "execution_count": null,
   "metadata": {},
   "outputs": [],
   "source": [
    "if faces is ():\n",
    "    print('No Face found')"
   ]
  },
  {
   "cell_type": "markdown",
   "metadata": {},
   "source": [
    "# It's kind a magic"
   ]
  },
  {
   "cell_type": "code",
   "execution_count": null,
   "metadata": {},
   "outputs": [],
   "source": [
    "def detect_faces_eyes(fix_img):\n",
    "    face_rects = face_classifier.detectMultiScale(fix_img)\n",
    "    for(x,y,w,h) in face_rects:\n",
    "        cv2.rectangle(fix_img,(x,y),(x+w,y+h),(255,0,0),7)\n",
    "        eyes_rects=eye_classifier.detectMultiScale(fix_img)\n",
    "        for(ix,iy,iw,ih) in eyes_rects:\n",
    "            cv2.rectangle(fix_img,(ix,iy),(ix+iw,iy+ih),(0,0,255),5)\n",
    "    return fix_img\n",
    "            "
   ]
  },
  {
   "cell_type": "code",
   "execution_count": null,
   "metadata": {},
   "outputs": [],
   "source": [
    "result = detect_faces_eyes(fix_img)\n",
    "plt.imshow(result)"
   ]
  },
  {
   "cell_type": "code",
   "execution_count": null,
   "metadata": {},
   "outputs": [],
   "source": []
  }
 ],
 "metadata": {
  "kernelspec": {
   "display_name": "Python 3",
   "language": "python",
   "name": "python3"
  },
  "language_info": {
   "codemirror_mode": {
    "name": "ipython",
    "version": 3
   },
   "file_extension": ".py",
   "mimetype": "text/x-python",
   "name": "python",
   "nbconvert_exporter": "python",
   "pygments_lexer": "ipython3",
   "version": "3.8.2"
  }
 },
 "nbformat": 4,
 "nbformat_minor": 4
}
